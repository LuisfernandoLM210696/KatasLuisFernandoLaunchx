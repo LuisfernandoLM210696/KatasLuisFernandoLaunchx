{
 "cells": [
  {
   "cell_type": "code",
   "execution_count": null,
   "metadata": {},
   "outputs": [],
   "source": []
  },
  {
   "cell_type": "code",
   "execution_count": 11,
   "metadata": {},
   "outputs": [
    {
     "name": "stdout",
     "output_type": "stream",
     "text": [
      "El número es Cero\n"
     ]
    }
   ],
   "source": [
    "Número = int(input(\"Digite un número: \"))\n",
    "\n",
    "if Número >0:\n",
    "    print(\"El número es Positivo\")\n",
    "elif Número ==0:\n",
    "    print (\"El número es Cero\")\n",
    "else: \n",
    "    print (\"El número es Negativo\")\n",
    "\n"
   ]
  },
  {
   "cell_type": "markdown",
   "metadata": {},
   "source": [
    "# Agrega el código para crear nuevas variables para la velocidad y el tamaño del asteroide"
   ]
  },
  {
   "cell_type": "markdown",
   "metadata": {},
   "source": [
    "# Para probar el código, prueba con varias velocidades y tamaños"
   ]
  },
  {
   "cell_type": "markdown",
   "metadata": {},
   "source": [
    "# Escribe varias expresiones de prueba o combinaciones de expresiones"
   ]
  },
  {
   "cell_type": "code",
   "execution_count": 23,
   "metadata": {},
   "outputs": [
    {
     "name": "stdout",
     "output_type": "stream",
     "text": [
      "Advertencia se acerca a la tierra un asteroide demasiado rápido\n"
     ]
    }
   ],
   "source": [
    "Velocidad_Asteroide = int(input(\"Digite un número: \"))\n",
    "\n",
    "if Velocidad_Asteroide >25:\n",
    "    print(\"Advertencia se acerca a la tierra un asteroide demasiado rápido\")\n",
    "elif Velocidad_Asteroide ==20:\n",
    "    print (\"Se les informa a todos los habitantes de la tierra que busquen un asteroide en el cielo\")\n",
    "else: \n",
    "    print (\"Sigue con tu día\")\n",
    "\n"
   ]
  },
  {
   "cell_type": "code",
   "execution_count": 34,
   "metadata": {},
   "outputs": [
    {
     "name": "stdout",
     "output_type": "stream",
     "text": [
      "Sigue con tu día\n"
     ]
    }
   ],
   "source": [
    "Velocidad_Asteroide = int(input(\"Digite velocidad del Asteroide: \"))\n",
    "\n",
    "Tamaño_Asteroide = int(input(\"Digite tamaño del Asteroide: \"))\n",
    "\n",
    "if Velocidad_Asteroide >25 and Tamaño_Asteroide >25:\n",
    "    print(\"Advertencia se acerca a la tierra un asteroide demasiado Peligroso\")\n",
    "\n",
    "elif Velocidad_Asteroide ==20:\n",
    "    print (\"Se les informa a todos los habitantes de la tierra que busquen un asteroide en el cielo\")\n",
    "\n",
    "elif Tamaño_Asteroide < 25:\n",
    "    print(\"Sigue con tu día\")\n",
    "else: \n",
    "    print (\"Sigue con tu día\")\n",
    "\n"
   ]
  }
 ],
 "metadata": {
  "interpreter": {
   "hash": "d09b08e5abf7bd2b0dd9cad1e36e1334392a6d0f271adf6265fc57aab90da85e"
  },
  "kernelspec": {
   "display_name": "Python 3.10.2 64-bit",
   "language": "python",
   "name": "python3"
  },
  "language_info": {
   "codemirror_mode": {
    "name": "ipython",
    "version": 3
   },
   "file_extension": ".py",
   "mimetype": "text/x-python",
   "name": "python",
   "nbconvert_exporter": "python",
   "pygments_lexer": "ipython3",
   "version": "3.10.2"
  },
  "orig_nbformat": 4
 },
 "nbformat": 4,
 "nbformat_minor": 2
}
